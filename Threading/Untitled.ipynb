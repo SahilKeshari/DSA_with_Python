{
 "cells": [
  {
   "cell_type": "code",
   "execution_count": 1,
   "id": "56c0cb5d",
   "metadata": {},
   "outputs": [
    {
     "name": "stdout",
     "output_type": "stream",
     "text": [
      "cube= 8\n",
      "sq= 4\n",
      "sq= 9\n",
      "cube= 27\n",
      "cube= 64\n",
      "sq= 16\n",
      "cube= 125\n",
      "sq= 25\n",
      "time taken =  0.8618152141571045\n"
     ]
    }
   ],
   "source": [
    "import time\n",
    "import threading\n",
    "\n",
    "def sq(num):\n",
    "    for n in num:\n",
    "        time.sleep(0.2)\n",
    "        print('sq=',n*n)\n",
    "def cube(num):\n",
    "    for n in num:\n",
    "        time.sleep(0.2)\n",
    "        print('cube=',n*n*n)\n",
    "\n",
    "arr=[2,3,4,5]\n",
    "\n",
    "\n",
    "t=time.time()\n",
    "\n",
    "t1=threading.Thread(target=sq,args=(arr,))\n",
    "t2=threading.Thread(target=cube,args=(arr,))\n",
    "\n",
    "t1.start()\n",
    "t2.start()\n",
    "t1.join()\n",
    "t2.join()\n",
    "print('time taken = ',time.time()-t)"
   ]
  },
  {
   "cell_type": "code",
   "execution_count": 17,
   "id": "aed7b589",
   "metadata": {},
   "outputs": [
    {
     "ename": "NameError",
     "evalue": "name 'f' is not defined",
     "output_type": "error",
     "traceback": [
      "\u001b[1;31m---------------------------------------------------------------------------\u001b[0m",
      "\u001b[1;31mNameError\u001b[0m                                 Traceback (most recent call last)",
      "Input \u001b[1;32mIn [17]\u001b[0m, in \u001b[0;36m<cell line: 1>\u001b[1;34m()\u001b[0m\n\u001b[1;32m----> 1\u001b[0m \u001b[43mf\u001b[49m\n",
      "\u001b[1;31mNameError\u001b[0m: name 'f' is not defined"
     ]
    }
   ],
   "source": [
    "f"
   ]
  },
  {
   "cell_type": "code",
   "execution_count": null,
   "id": "925bc65e",
   "metadata": {},
   "outputs": [],
   "source": []
  }
 ],
 "metadata": {
  "kernelspec": {
   "display_name": "Python 3 (ipykernel)",
   "language": "python",
   "name": "python3"
  },
  "language_info": {
   "codemirror_mode": {
    "name": "ipython",
    "version": 3
   },
   "file_extension": ".py",
   "mimetype": "text/x-python",
   "name": "python",
   "nbconvert_exporter": "python",
   "pygments_lexer": "ipython3",
   "version": "3.10.2"
  }
 },
 "nbformat": 4,
 "nbformat_minor": 5
}
