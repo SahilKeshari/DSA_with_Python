{
 "cells": [
  {
   "cell_type": "code",
   "execution_count": 40,
   "id": "60605131",
   "metadata": {},
   "outputs": [],
   "source": [
    "#main class and its methods\n",
    "class Stack:\n",
    "    def __init__(self):\n",
    "        self.container=deque()\n",
    "    def pop(self):\n",
    "        return self.container.pop()\n",
    "    def push(self,ele):\n",
    "        self.container.append(ele)\n",
    "    def peek(self):\n",
    "        return self.container[-1]\n",
    "    def isEmpty(self):\n",
    "        return len(self.container)==0\n",
    "    def size(self):\n",
    "        return len(self.container)\n",
    "    \n",
    "#method to reverse the string given in input using stack\n",
    "def reverse_string(st):\n",
    "    arr=Stack()\n",
    "    newst=''\n",
    "    for i in range(len(st)):\n",
    "        arr.push(st[i])\n",
    "    for i in range(len(st)):\n",
    "        newst+=arr.pop()\n",
    "    return newst\n",
    "\n",
    "#method to check if the brackers given in the expression is proper and balanced\n",
    "def is_balanced(st):\n",
    "    arr=Stack()\n",
    "    rb,lb=0,0\n",
    "    for i in range(len(st)):\n",
    "        if st[i]=='{' or st[i]=='[' or st[i]=='(':\n",
    "            rb+=1\n",
    "            arr.push(st[i])\n",
    "        if st[i]=='}' or st[i]==']' or st[i]==')':\n",
    "            lb+=1\n",
    "            if lb>rb:\n",
    "                return False\n",
    "            if st[i]=='}' and arr.pop()=='{':\n",
    "                continue\n",
    "            if st[i]==']' and arr.pop()=='[':\n",
    "                continue\n",
    "            if st[i]==')' and arr.pop()=='(':\n",
    "                continue\n",
    "    if arr.isEmpty():\n",
    "        return True\n",
    "    else:\n",
    "        return False"
   ]
  },
  {
   "cell_type": "code",
   "execution_count": 42,
   "id": "aa104b7d",
   "metadata": {},
   "outputs": [
    {
     "name": "stdout",
     "output_type": "stream",
     "text": [
      "True\n",
      "False\n",
      "True\n",
      "False\n",
      "True\n"
     ]
    }
   ],
   "source": [
    "print(is_balanced(\"({a+b})\"))\n",
    "print(is_balanced(\"))((a+b}{\"))\n",
    "print(is_balanced(\"((a+b))\"))\n",
    "print(is_balanced(\"))\"))\n",
    "print(is_balanced(\"[a+b]*(x+2y)*{gg+kk}\"))"
   ]
  },
  {
   "cell_type": "code",
   "execution_count": null,
   "id": "88cac0f2",
   "metadata": {},
   "outputs": [],
   "source": [
    "reverse_string(\"We will conquere COVI-19\")"
   ]
  }
 ],
 "metadata": {
  "kernelspec": {
   "display_name": "Python 3 (ipykernel)",
   "language": "python",
   "name": "python3"
  },
  "language_info": {
   "codemirror_mode": {
    "name": "ipython",
    "version": 3
   },
   "file_extension": ".py",
   "mimetype": "text/x-python",
   "name": "python",
   "nbconvert_exporter": "python",
   "pygments_lexer": "ipython3",
   "version": "3.10.2"
  }
 },
 "nbformat": 4,
 "nbformat_minor": 5
}
