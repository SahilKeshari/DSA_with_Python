{
 "cells": [
  {
   "cell_type": "code",
   "execution_count": 6,
   "id": "cc0cabfa",
   "metadata": {},
   "outputs": [
    {
     "name": "stdout",
     "output_type": "stream",
     "text": [
      "Placing order for :  pizza\n",
      "Placing order for :  samosa\n",
      "Now serving :  pizza\n",
      "Placing order for :  pasta\n",
      "Placing order for :  biryani\n",
      "Placing order for :  burger\n",
      "Now serving :  samosa\n",
      "Now serving :  pasta\n",
      "Now serving :  biryani\n",
      "Now serving :  burger\n",
      "\n",
      "---------No more order left------------\n"
     ]
    }
   ],
   "source": [
    "import time\n",
    "import threading\n",
    "from collections import deque\n",
    "\n",
    "class Queue:\n",
    "    def __init__(self):\n",
    "        self.buffer=deque()\n",
    "    def enqueue(self,val):\n",
    "        self.buffer.appendleft(val)\n",
    "    def dequeue(self):\n",
    "        return self.buffer.pop()\n",
    "    def isEmpty(self):\n",
    "        return len(self.buffer)==0\n",
    "    def size(self):\n",
    "        return len(self.buffer)\n",
    "\n",
    "food=Queue()\n",
    "\n",
    "def placeOrder(orders):\n",
    "    for order in orders:\n",
    "        print(\"Placing order for : \",order)\n",
    "        food.enqueue(order)\n",
    "        time.sleep(0.5)\n",
    "\n",
    "def serveOrder():\n",
    "    time.sleep(1)\n",
    "    while food.isEmpty()==False:\n",
    "        order=food.dequeue()\n",
    "        print(\"Now serving : \",order)\n",
    "        time.sleep(2)\n",
    "    else:\n",
    "        print()\n",
    "        print(\"---------No more order left------------\")\n",
    "        \n",
    "        \n",
    "if __name__=='__main__':\n",
    "    orders = ['pizza','samosa','pasta','biryani','burger']\n",
    "\n",
    "    t1=threading.Thread(target=placeOrder,args=(orders,))\n",
    "    t2=threading.Thread(target=serveOrder)\n",
    "\n",
    "    t1.start()\n",
    "    t2.start()\n",
    "\n",
    "# t1.join()\n",
    "# t2.join()"
   ]
  },
  {
   "cell_type": "code",
   "execution_count": 14,
   "id": "0e538448",
   "metadata": {},
   "outputs": [
    {
     "name": "stdout",
     "output_type": "stream",
     "text": [
      "1\n",
      "10\n",
      "11\n",
      "100\n",
      "101\n",
      "110\n",
      "111\n",
      "1000\n",
      "1001\n",
      "1010\n"
     ]
    }
   ],
   "source": [
    "class Queue:\n",
    "    def __init__(self):\n",
    "        self.buffer=deque()\n",
    "    def enqueue(self,val):\n",
    "        self.buffer.appendleft(val)\n",
    "    def dequeue(self):\n",
    "        return self.buffer.pop()\n",
    "    def isEmpty(self):\n",
    "        return len(self.buffer)==0\n",
    "    def size(self):\n",
    "        return len(self.buffer)\n",
    "def binary(n):\n",
    "    bin=Queue()\n",
    "    bin.enqueue('1')\n",
    "    for i in range(n):\n",
    "        next=str(bin.dequeue())\n",
    "        print(next)\n",
    "        bin.enqueue(next+'0')\n",
    "        bin.enqueue(next+'1')\n",
    "if __name__=='__main__':\n",
    "    binary\n",
    "        \n",
    "        \n",
    "    \n",
    "        \n",
    "    "
   ]
  },
  {
   "cell_type": "code",
   "execution_count": null,
   "id": "00c30492",
   "metadata": {},
   "outputs": [],
   "source": []
  }
 ],
 "metadata": {
  "kernelspec": {
   "display_name": "Python 3 (ipykernel)",
   "language": "python",
   "name": "python3"
  },
  "language_info": {
   "codemirror_mode": {
    "name": "ipython",
    "version": 3
   },
   "file_extension": ".py",
   "mimetype": "text/x-python",
   "name": "python",
   "nbconvert_exporter": "python",
   "pygments_lexer": "ipython3",
   "version": "3.10.2"
  }
 },
 "nbformat": 4,
 "nbformat_minor": 5
}
