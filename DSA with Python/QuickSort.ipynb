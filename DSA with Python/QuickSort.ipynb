{
 "cells": [
  {
   "cell_type": "code",
   "execution_count": 1,
   "id": "dddbf932",
   "metadata": {},
   "outputs": [
    {
     "name": "stdout",
     "output_type": "stream",
     "text": [
      "3 3 4 6 23 32 36 45 54 431\n"
     ]
    }
   ],
   "source": [
    "a=[6,36,45,431,4,3,23,3,54,32]\n",
    "\n",
    "def quick(a,low,high):\n",
    "    if low<high:\n",
    "        p=partition(a,low,high)\n",
    "        quick(a,low,p-1)\n",
    "        quick(a,p+1,high)\n",
    "        \n",
    "def pivot(a,low,high):\n",
    "    mid=(low+high)//2\n",
    "    pivot=high\n",
    "    if a[low]<a[mid]:\n",
    "        if a[mid]<a[high]:\n",
    "            pivot=mid\n",
    "    else:\n",
    "        pivot=low\n",
    "    return pivot\n",
    "    \n",
    "def partition(a,low,high):\n",
    "    p_i=pivot(a,low,high)\n",
    "    p_v=a[p_i]\n",
    "    a[p_i],a[low]=a[low],a[p_i]\n",
    "    border=low\n",
    "    for i in range(low,high+1):\n",
    "        if a[i]<p_v:\n",
    "            border+=1\n",
    "            a[i],a[border]=a[border],a[i]\n",
    "    a[border],a[low]=a[low],a[border]\n",
    "    return  border\n",
    "    \n",
    "quick(a,0,len(a)-1)\n",
    "print(*a)"
   ]
  },
  {
   "cell_type": "code",
   "execution_count": null,
   "id": "aac97350",
   "metadata": {},
   "outputs": [],
   "source": []
  }
 ],
 "metadata": {
  "kernelspec": {
   "display_name": "Python 3 (ipykernel)",
   "language": "python",
   "name": "python3"
  },
  "language_info": {
   "codemirror_mode": {
    "name": "ipython",
    "version": 3
   },
   "file_extension": ".py",
   "mimetype": "text/x-python",
   "name": "python",
   "nbconvert_exporter": "python",
   "pygments_lexer": "ipython3",
   "version": "3.10.6"
  }
 },
 "nbformat": 4,
 "nbformat_minor": 5
}
