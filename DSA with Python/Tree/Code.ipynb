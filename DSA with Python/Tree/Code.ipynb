{
 "cells": [
  {
   "cell_type": "code",
   "execution_count": 45,
   "id": "c8d803e3",
   "metadata": {},
   "outputs": [
    {
     "name": "stdout",
     "output_type": "stream",
     "text": [
      "Electronics\n",
      "  |-->laptop\n",
      "    |-->HP\n",
      "    |-->Lenovo\n",
      "  |-->mobile\n",
      "    |-->Apple\n",
      "    |-->Samsung\n"
     ]
    }
   ],
   "source": [
    "class TreeNode:\n",
    "    def __init__(self,data):\n",
    "        self.data=data\n",
    "        self.children=[]\n",
    "        self.parent=None\n",
    "    \n",
    "    def add_child(self,child):\n",
    "        child.parent=self\n",
    "        self.children.append(child)\n",
    "        \n",
    "    def print_tree(self):\n",
    "        prefix='  '*self.level()\n",
    "        if self.level()>0:\n",
    "            prefix+='|-->'\n",
    "        print(prefix+self.data)\n",
    "        if self.children:\n",
    "            for child in self.children:\n",
    "                 child.print_tree()\n",
    "                    \n",
    "    def level(self):\n",
    "        l=0\n",
    "        p=self.parent\n",
    "        while p:\n",
    "            l+=1\n",
    "            p=p.parent\n",
    "        return l\n",
    "    \n",
    "def build_tree():\n",
    "    root=TreeNode(\"Electronics\")\n",
    "    \n",
    "    laptop=TreeNode(\"laptop\")\n",
    "    laptop.add_child(TreeNode(\"HP\"))\n",
    "    laptop.add_child(TreeNode(\"Lenovo\"))\n",
    "    \n",
    "    mobile=TreeNode(\"mobile\")\n",
    "    mobile.add_child(TreeNode(\"Apple\"))\n",
    "    mobile.add_child(TreeNode(\"Samsung\"))\n",
    "    \n",
    "    root.add_child(laptop)\n",
    "    root.add_child(mobile)\n",
    "    \n",
    "    return root\n",
    "\n",
    "if __name__=='__main__':\n",
    "    root=build_tree()\n",
    "    root.print_tree()\n",
    "    pass"
   ]
  },
  {
   "cell_type": "code",
   "execution_count": null,
   "id": "03a87daf",
   "metadata": {},
   "outputs": [],
   "source": []
  }
 ],
 "metadata": {
  "kernelspec": {
   "display_name": "Python 3 (ipykernel)",
   "language": "python",
   "name": "python3"
  },
  "language_info": {
   "codemirror_mode": {
    "name": "ipython",
    "version": 3
   },
   "file_extension": ".py",
   "mimetype": "text/x-python",
   "name": "python",
   "nbconvert_exporter": "python",
   "pygments_lexer": "ipython3",
   "version": "3.10.6"
  }
 },
 "nbformat": 4,
 "nbformat_minor": 5
}
