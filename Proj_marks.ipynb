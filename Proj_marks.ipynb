{
 "cells": [
  {
   "cell_type": "code",
   "execution_count": null,
   "id": "b5cc44d4",
   "metadata": {},
   "outputs": [
    {
     "name": "stdout",
     "output_type": "stream",
     "text": [
      "Enter Name : sak\n",
      "Enter marks :-\n",
      "english: -2\n",
      "Invalid Input, Retry\n",
      "english: 1000\n",
      "Invalid Input, Retry\n",
      "english: 300\n",
      "Invalid Input, Retry\n",
      "english: 900\n"
     ]
    }
   ],
   "source": [
    "import time\n",
    "\n",
    "name = input('Enter Name : ')\n",
    "print(\"Enter marks :-\")\n",
    "sub=[\"english\",'hindi','maths','science','computer']\n",
    "num={}\n",
    "i=0\n",
    "c=0\n",
    "while i<5:\n",
    "    x = int(input(sub[i]+': '))\n",
    "    if x<101 and x>-1:\n",
    "        num[sub[i]] = x\n",
    "    else:\n",
    "        if c>2:\n",
    "            print(\"Too many Invalid Inputs, Retry after sometime\")\n",
    "            time.sleep(10)\n",
    "            continue\n",
    "        print(\"Invalid Input, Retry\")\n",
    "        c+=1\n",
    "        continue\n",
    "    i+=1\n",
    "\n",
    "print(f\"Hello {name}\",end=\" \")\n",
    "total = sum(num.values())\n",
    "for i in num.values():\n",
    "    if i<33:\n",
    "        print('''You're Fail''')\n",
    "        break\n",
    "else:\n",
    "    if total>450:\n",
    "        print('Your grade is A')\n",
    "    elif total>350:\n",
    "        print('Your grade is B')\n",
    "    elif total>250:\n",
    "        print('Your grade is C')\n",
    "    elif total>200:\n",
    "        print('''You're Pass''')\n",
    "    else:\n",
    "        print('''You're Fail''')"
   ]
  },
  {
   "cell_type": "code",
   "execution_count": null,
   "id": "68dbabe6",
   "metadata": {},
   "outputs": [],
   "source": []
  }
 ],
 "metadata": {
  "kernelspec": {
   "display_name": "Python 3 (ipykernel)",
   "language": "python",
   "name": "python3"
  },
  "language_info": {
   "codemirror_mode": {
    "name": "ipython",
    "version": 3
   },
   "file_extension": ".py",
   "mimetype": "text/x-python",
   "name": "python",
   "nbconvert_exporter": "python",
   "pygments_lexer": "ipython3",
   "version": "3.10.6"
  }
 },
 "nbformat": 4,
 "nbformat_minor": 5
}
